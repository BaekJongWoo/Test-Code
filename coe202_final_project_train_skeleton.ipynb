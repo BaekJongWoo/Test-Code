{
  "nbformat": 4,
  "nbformat_minor": 0,
  "metadata": {
    "accelerator": "GPU",
    "colab": {
      "name": "coe202_final_project_train_skeleton.ipynb",
      "provenance": [],
      "collapsed_sections": [],
      "include_colab_link": true
    },
    "kernelspec": {
      "display_name": "Python 3",
      "name": "python3"
    },
    "language_info": {
      "codemirror_mode": {
        "name": "ipython",
        "version": 3
      },
      "file_extension": ".py",
      "mimetype": "text/x-python",
      "name": "python",
      "nbconvert_exporter": "python",
      "pygments_lexer": "ipython3",
      "version": "3.7.4-final"
    },
    "widgets": {
      "application/vnd.jupyter.widget-state+json": {
        "398e149a0a97437980c3ed2edb1df656": {
          "model_module": "@jupyter-widgets/controls",
          "model_name": "HBoxModel",
          "state": {
            "_view_name": "HBoxView",
            "_dom_classes": [],
            "_model_name": "HBoxModel",
            "_view_module": "@jupyter-widgets/controls",
            "_model_module_version": "1.5.0",
            "_view_count": null,
            "_view_module_version": "1.5.0",
            "box_style": "",
            "layout": "IPY_MODEL_7400cba0e5744f9eaad2ffffc08fe6e9",
            "_model_module": "@jupyter-widgets/controls",
            "children": [
              "IPY_MODEL_f1c0b6da2ed246b3aa083523005ddfd1",
              "IPY_MODEL_f73e20ab6afe43a4a614fa23064ef94f"
            ]
          }
        },
        "7400cba0e5744f9eaad2ffffc08fe6e9": {
          "model_module": "@jupyter-widgets/base",
          "model_name": "LayoutModel",
          "state": {
            "_view_name": "LayoutView",
            "grid_template_rows": null,
            "right": null,
            "justify_content": null,
            "_view_module": "@jupyter-widgets/base",
            "overflow": null,
            "_model_module_version": "1.2.0",
            "_view_count": null,
            "flex_flow": null,
            "width": null,
            "min_width": null,
            "border": null,
            "align_items": null,
            "bottom": null,
            "_model_module": "@jupyter-widgets/base",
            "top": null,
            "grid_column": null,
            "overflow_y": null,
            "overflow_x": null,
            "grid_auto_flow": null,
            "grid_area": null,
            "grid_template_columns": null,
            "flex": null,
            "_model_name": "LayoutModel",
            "justify_items": null,
            "grid_row": null,
            "max_height": null,
            "align_content": null,
            "visibility": null,
            "align_self": null,
            "height": null,
            "min_height": null,
            "padding": null,
            "grid_auto_rows": null,
            "grid_gap": null,
            "max_width": null,
            "order": null,
            "_view_module_version": "1.2.0",
            "grid_template_areas": null,
            "object_position": null,
            "object_fit": null,
            "grid_auto_columns": null,
            "margin": null,
            "display": null,
            "left": null
          }
        },
        "f1c0b6da2ed246b3aa083523005ddfd1": {
          "model_module": "@jupyter-widgets/controls",
          "model_name": "FloatProgressModel",
          "state": {
            "_view_name": "ProgressView",
            "style": "IPY_MODEL_e0545b7bbd994588abcc9cc485364afa",
            "_dom_classes": [],
            "description": "100%",
            "_model_name": "FloatProgressModel",
            "bar_style": "success",
            "max": 102502400,
            "_view_module": "@jupyter-widgets/controls",
            "_model_module_version": "1.5.0",
            "value": 102502400,
            "_view_count": null,
            "_view_module_version": "1.5.0",
            "orientation": "horizontal",
            "min": 0,
            "description_tooltip": null,
            "_model_module": "@jupyter-widgets/controls",
            "layout": "IPY_MODEL_80fbe50f575e4cef8dea5c000f3cece0"
          }
        },
        "f73e20ab6afe43a4a614fa23064ef94f": {
          "model_module": "@jupyter-widgets/controls",
          "model_name": "HTMLModel",
          "state": {
            "_view_name": "HTMLView",
            "style": "IPY_MODEL_95fd72ca0f034c2d871f0420e19f7420",
            "_dom_classes": [],
            "description": "",
            "_model_name": "HTMLModel",
            "placeholder": "​",
            "_view_module": "@jupyter-widgets/controls",
            "_model_module_version": "1.5.0",
            "value": " 97.8M/97.8M [00:11&lt;00:00, 8.65MB/s]",
            "_view_count": null,
            "_view_module_version": "1.5.0",
            "description_tooltip": null,
            "_model_module": "@jupyter-widgets/controls",
            "layout": "IPY_MODEL_34c7bee0dcb44c9baea02112a7083427"
          }
        },
        "e0545b7bbd994588abcc9cc485364afa": {
          "model_module": "@jupyter-widgets/controls",
          "model_name": "ProgressStyleModel",
          "state": {
            "_view_name": "StyleView",
            "_model_name": "ProgressStyleModel",
            "description_width": "initial",
            "_view_module": "@jupyter-widgets/base",
            "_model_module_version": "1.5.0",
            "_view_count": null,
            "_view_module_version": "1.2.0",
            "bar_color": null,
            "_model_module": "@jupyter-widgets/controls"
          }
        },
        "80fbe50f575e4cef8dea5c000f3cece0": {
          "model_module": "@jupyter-widgets/base",
          "model_name": "LayoutModel",
          "state": {
            "_view_name": "LayoutView",
            "grid_template_rows": null,
            "right": null,
            "justify_content": null,
            "_view_module": "@jupyter-widgets/base",
            "overflow": null,
            "_model_module_version": "1.2.0",
            "_view_count": null,
            "flex_flow": null,
            "width": null,
            "min_width": null,
            "border": null,
            "align_items": null,
            "bottom": null,
            "_model_module": "@jupyter-widgets/base",
            "top": null,
            "grid_column": null,
            "overflow_y": null,
            "overflow_x": null,
            "grid_auto_flow": null,
            "grid_area": null,
            "grid_template_columns": null,
            "flex": null,
            "_model_name": "LayoutModel",
            "justify_items": null,
            "grid_row": null,
            "max_height": null,
            "align_content": null,
            "visibility": null,
            "align_self": null,
            "height": null,
            "min_height": null,
            "padding": null,
            "grid_auto_rows": null,
            "grid_gap": null,
            "max_width": null,
            "order": null,
            "_view_module_version": "1.2.0",
            "grid_template_areas": null,
            "object_position": null,
            "object_fit": null,
            "grid_auto_columns": null,
            "margin": null,
            "display": null,
            "left": null
          }
        },
        "95fd72ca0f034c2d871f0420e19f7420": {
          "model_module": "@jupyter-widgets/controls",
          "model_name": "DescriptionStyleModel",
          "state": {
            "_view_name": "StyleView",
            "_model_name": "DescriptionStyleModel",
            "description_width": "",
            "_view_module": "@jupyter-widgets/base",
            "_model_module_version": "1.5.0",
            "_view_count": null,
            "_view_module_version": "1.2.0",
            "_model_module": "@jupyter-widgets/controls"
          }
        },
        "34c7bee0dcb44c9baea02112a7083427": {
          "model_module": "@jupyter-widgets/base",
          "model_name": "LayoutModel",
          "state": {
            "_view_name": "LayoutView",
            "grid_template_rows": null,
            "right": null,
            "justify_content": null,
            "_view_module": "@jupyter-widgets/base",
            "overflow": null,
            "_model_module_version": "1.2.0",
            "_view_count": null,
            "flex_flow": null,
            "width": null,
            "min_width": null,
            "border": null,
            "align_items": null,
            "bottom": null,
            "_model_module": "@jupyter-widgets/base",
            "top": null,
            "grid_column": null,
            "overflow_y": null,
            "overflow_x": null,
            "grid_auto_flow": null,
            "grid_area": null,
            "grid_template_columns": null,
            "flex": null,
            "_model_name": "LayoutModel",
            "justify_items": null,
            "grid_row": null,
            "max_height": null,
            "align_content": null,
            "visibility": null,
            "align_self": null,
            "height": null,
            "min_height": null,
            "padding": null,
            "grid_auto_rows": null,
            "grid_gap": null,
            "max_width": null,
            "order": null,
            "_view_module_version": "1.2.0",
            "grid_template_areas": null,
            "object_position": null,
            "object_fit": null,
            "grid_auto_columns": null,
            "margin": null,
            "display": null,
            "left": null
          }
        },
        "32eb41de6b2044248e3654abc2a17e28": {
          "model_module": "@jupyter-widgets/controls",
          "model_name": "HBoxModel",
          "state": {
            "_view_name": "HBoxView",
            "_dom_classes": [],
            "_model_name": "HBoxModel",
            "_view_module": "@jupyter-widgets/controls",
            "_model_module_version": "1.5.0",
            "_view_count": null,
            "_view_module_version": "1.5.0",
            "box_style": "",
            "layout": "IPY_MODEL_b0456ac0d363490b96cc12b4dae6cd72",
            "_model_module": "@jupyter-widgets/controls",
            "children": [
              "IPY_MODEL_72ab1b29440f4a2e8adb5371d4e5e56c",
              "IPY_MODEL_ca61042deaaa4f3a859cedd0355aa757"
            ]
          }
        },
        "b0456ac0d363490b96cc12b4dae6cd72": {
          "model_module": "@jupyter-widgets/base",
          "model_name": "LayoutModel",
          "state": {
            "_view_name": "LayoutView",
            "grid_template_rows": null,
            "right": null,
            "justify_content": null,
            "_view_module": "@jupyter-widgets/base",
            "overflow": null,
            "_model_module_version": "1.2.0",
            "_view_count": null,
            "flex_flow": null,
            "width": null,
            "min_width": null,
            "border": null,
            "align_items": null,
            "bottom": null,
            "_model_module": "@jupyter-widgets/base",
            "top": null,
            "grid_column": null,
            "overflow_y": null,
            "overflow_x": null,
            "grid_auto_flow": null,
            "grid_area": null,
            "grid_template_columns": null,
            "flex": null,
            "_model_name": "LayoutModel",
            "justify_items": null,
            "grid_row": null,
            "max_height": null,
            "align_content": null,
            "visibility": null,
            "align_self": null,
            "height": null,
            "min_height": null,
            "padding": null,
            "grid_auto_rows": null,
            "grid_gap": null,
            "max_width": null,
            "order": null,
            "_view_module_version": "1.2.0",
            "grid_template_areas": null,
            "object_position": null,
            "object_fit": null,
            "grid_auto_columns": null,
            "margin": null,
            "display": null,
            "left": null
          }
        },
        "72ab1b29440f4a2e8adb5371d4e5e56c": {
          "model_module": "@jupyter-widgets/controls",
          "model_name": "FloatProgressModel",
          "state": {
            "_view_name": "ProgressView",
            "style": "IPY_MODEL_456a8661f065487c92a4242526bbe26e",
            "_dom_classes": [],
            "description": " 10%",
            "_model_name": "FloatProgressModel",
            "bar_style": "",
            "max": 30,
            "_view_module": "@jupyter-widgets/controls",
            "_model_module_version": "1.5.0",
            "value": 3,
            "_view_count": null,
            "_view_module_version": "1.5.0",
            "orientation": "horizontal",
            "min": 0,
            "description_tooltip": null,
            "_model_module": "@jupyter-widgets/controls",
            "layout": "IPY_MODEL_6d3922e248a6425186a192c399b3206f"
          }
        },
        "ca61042deaaa4f3a859cedd0355aa757": {
          "model_module": "@jupyter-widgets/controls",
          "model_name": "HTMLModel",
          "state": {
            "_view_name": "HTMLView",
            "style": "IPY_MODEL_fb279e9635f54ef5a685d83516937d21",
            "_dom_classes": [],
            "description": "",
            "_model_name": "HTMLModel",
            "placeholder": "​",
            "_view_module": "@jupyter-widgets/controls",
            "_model_module_version": "1.5.0",
            "value": " 3/30 [08:35&lt;1:50:43, 246.05s/it]",
            "_view_count": null,
            "_view_module_version": "1.5.0",
            "description_tooltip": null,
            "_model_module": "@jupyter-widgets/controls",
            "layout": "IPY_MODEL_57e18f2ae28d4bbcaf66739821814064"
          }
        },
        "456a8661f065487c92a4242526bbe26e": {
          "model_module": "@jupyter-widgets/controls",
          "model_name": "ProgressStyleModel",
          "state": {
            "_view_name": "StyleView",
            "_model_name": "ProgressStyleModel",
            "description_width": "initial",
            "_view_module": "@jupyter-widgets/base",
            "_model_module_version": "1.5.0",
            "_view_count": null,
            "_view_module_version": "1.2.0",
            "bar_color": null,
            "_model_module": "@jupyter-widgets/controls"
          }
        },
        "6d3922e248a6425186a192c399b3206f": {
          "model_module": "@jupyter-widgets/base",
          "model_name": "LayoutModel",
          "state": {
            "_view_name": "LayoutView",
            "grid_template_rows": null,
            "right": null,
            "justify_content": null,
            "_view_module": "@jupyter-widgets/base",
            "overflow": null,
            "_model_module_version": "1.2.0",
            "_view_count": null,
            "flex_flow": null,
            "width": null,
            "min_width": null,
            "border": null,
            "align_items": null,
            "bottom": null,
            "_model_module": "@jupyter-widgets/base",
            "top": null,
            "grid_column": null,
            "overflow_y": null,
            "overflow_x": null,
            "grid_auto_flow": null,
            "grid_area": null,
            "grid_template_columns": null,
            "flex": null,
            "_model_name": "LayoutModel",
            "justify_items": null,
            "grid_row": null,
            "max_height": null,
            "align_content": null,
            "visibility": null,
            "align_self": null,
            "height": null,
            "min_height": null,
            "padding": null,
            "grid_auto_rows": null,
            "grid_gap": null,
            "max_width": null,
            "order": null,
            "_view_module_version": "1.2.0",
            "grid_template_areas": null,
            "object_position": null,
            "object_fit": null,
            "grid_auto_columns": null,
            "margin": null,
            "display": null,
            "left": null
          }
        },
        "fb279e9635f54ef5a685d83516937d21": {
          "model_module": "@jupyter-widgets/controls",
          "model_name": "DescriptionStyleModel",
          "state": {
            "_view_name": "StyleView",
            "_model_name": "DescriptionStyleModel",
            "description_width": "",
            "_view_module": "@jupyter-widgets/base",
            "_model_module_version": "1.5.0",
            "_view_count": null,
            "_view_module_version": "1.2.0",
            "_model_module": "@jupyter-widgets/controls"
          }
        },
        "57e18f2ae28d4bbcaf66739821814064": {
          "model_module": "@jupyter-widgets/base",
          "model_name": "LayoutModel",
          "state": {
            "_view_name": "LayoutView",
            "grid_template_rows": null,
            "right": null,
            "justify_content": null,
            "_view_module": "@jupyter-widgets/base",
            "overflow": null,
            "_model_module_version": "1.2.0",
            "_view_count": null,
            "flex_flow": null,
            "width": null,
            "min_width": null,
            "border": null,
            "align_items": null,
            "bottom": null,
            "_model_module": "@jupyter-widgets/base",
            "top": null,
            "grid_column": null,
            "overflow_y": null,
            "overflow_x": null,
            "grid_auto_flow": null,
            "grid_area": null,
            "grid_template_columns": null,
            "flex": null,
            "_model_name": "LayoutModel",
            "justify_items": null,
            "grid_row": null,
            "max_height": null,
            "align_content": null,
            "visibility": null,
            "align_self": null,
            "height": null,
            "min_height": null,
            "padding": null,
            "grid_auto_rows": null,
            "grid_gap": null,
            "max_width": null,
            "order": null,
            "_view_module_version": "1.2.0",
            "grid_template_areas": null,
            "object_position": null,
            "object_fit": null,
            "grid_auto_columns": null,
            "margin": null,
            "display": null,
            "left": null
          }
        }
      }
    }
  },
  "cells": [
    {
      "cell_type": "markdown",
      "metadata": {
        "id": "view-in-github",
        "colab_type": "text"
      },
      "source": [
        "<a href=\"https://colab.research.google.com/github/BaekJongWoo/Test-Code/blob/main/coe202_final_project_train_skeleton.ipynb\" target=\"_parent\"><img src=\"https://colab.research.google.com/assets/colab-badge.svg\" alt=\"Open In Colab\"/></a>"
      ]
    },
    {
      "cell_type": "markdown",
      "metadata": {
        "id": "RiDpdqsG2EW4"
      },
      "source": [
        "# **Final Project**\n",
        "**KAIST, Spring 2021**   \n",
        "**[CoE202(A)] Fundamentals of Artificial Intelligence**\n",
        "\n",
        "**Instructor: Prof. Young-Gyu Yoon**\n",
        "\n",
        "**Issue date: 2021.05.20.**    \n",
        "**Due date: 2021.06.15.**\n",
        "\n",
        "We are going to design a **convolutional neural network** for **semantic segmentation** of photographic images.\n",
        "\n",
        "The goal is to achieve as high as possible mean Intersection of Union(mIoU) on the test dataset\n",
        "\n",
        "For more information, please read the project specification document.\n",
        "Reading this article below also may be helpful for understanding the problem.\n",
        "(https://medium.com/analytics-vidhya/introduction-to-semantic-image-segmentation-856cda5e5de8)\n",
        "\n",
        "This iPython notebook is the skeleton code prepared by our TAs (Changyeop Shin and Seungjae Han) for you."
      ]
    },
    {
      "cell_type": "markdown",
      "metadata": {
        "id": "kRi6nPHoQjiz"
      },
      "source": [
        "**1. Import external libraries that we want to use.**"
      ]
    },
    {
      "cell_type": "code",
      "metadata": {
        "id": "DmFrSEqT2EW5"
      },
      "source": [
        "import os\n",
        "import sys\n",
        "import time\n",
        "import datetime\n",
        "from PIL import Image\n",
        "import matplotlib.pyplot as plt\n",
        "import numpy as np\n",
        "import math\n",
        "import torch\n",
        "import torch.nn as nn\n",
        "from torchvision.utils import save_image\n",
        "import torchvision.transforms as transforms\n",
        "from tqdm.auto import tqdm\n",
        "\n",
        "\n",
        "!rm /etc/localtime\n",
        "!ln -s /usr/share/zoneinfo/Asia/Seoul /etc/localtime"
      ],
      "execution_count": 3,
      "outputs": []
    },
    {
      "cell_type": "markdown",
      "metadata": {
        "id": "6u_AeG9pQlHB"
      },
      "source": [
        "**2. Mount the google drive.**"
      ]
    },
    {
      "cell_type": "code",
      "metadata": {
        "id": "bkTIgoexPBxA",
        "colab": {
          "base_uri": "https://localhost:8080/"
        },
        "outputId": "e85dad09-464d-453f-d057-3b7e51e279a7"
      },
      "source": [
        "from google.colab import drive\n",
        "drive.mount(\"/content/drive\")\n",
        "\n",
        "# Autoreload in case that the custom modules are changed\n",
        "%load_ext autoreload\n",
        "%autoreload 2"
      ],
      "execution_count": 4,
      "outputs": [
        {
          "output_type": "stream",
          "text": [
            "Mounted at /content/drive\n"
          ],
          "name": "stdout"
        }
      ]
    },
    {
      "cell_type": "markdown",
      "metadata": {
        "id": "YmieVuvEQoxj"
      },
      "source": [
        "**3. Import custom modules.\n",
        "Below is a list of python modules that contain useful functions.**\n",
        "\n",
        "**You need to make sure that you upload the files on 'filepath'.**\n",
        "\n",
        "*  **util.py** : dataloader, mIoU calculator, transform functions.\n",
        "*  **model_baseline.py**: semantic segmentation model."
      ]
    },
    {
      "cell_type": "code",
      "metadata": {
        "id": "pt-SFEkWOq5Y"
      },
      "source": [
        "filepath = \"/content/drive/MyDrive/Colab\" # indicate path of workspace, change the path suited to your Google drive setting\n",
        "sys.path.append(filepath)\n",
        "\n",
        "from util import *\n",
        "from model_baseline import *"
      ],
      "execution_count": 5,
      "outputs": []
    },
    {
      "cell_type": "markdown",
      "metadata": {
        "id": "8DYeQoytOuAc"
      },
      "source": [
        "**4. Unzip the compressed data file (.zip).**"
      ]
    },
    {
      "cell_type": "code",
      "metadata": {
        "id": "wqG-otp75ztu",
        "colab": {
          "base_uri": "https://localhost:8080/"
        },
        "outputId": "2c278fb7-c6f1-43ec-9662-c124dac6bcb8"
      },
      "source": [
        "# Check the current filepath and file lists in there\n",
        "%cd $filepath \n",
        "!pwd \n",
        "!ls \n",
        "![ -d \"CoE202Spring_finalproject_dataset\" ] &&  echo \"Directory $d found.\" || unzip -q CoE202Spring_finalproject_dataset.zip # once you unzip, then do not again\n",
        "!ls"
      ],
      "execution_count": 6,
      "outputs": [
        {
          "output_type": "stream",
          "text": [
            "/content/drive/MyDrive/Colab\n",
            "/content/drive/MyDrive/Colab\n",
            " coe202_final_project_train_skeleton.ipynb   exp_colab\n",
            "'CoE202_HW3_test_code (4).ipynb'\t     model_baseline.py\n",
            " CoE202_HW3_test_code.ipynb\t\t     __pycache__\n",
            " CoE202_HW3_training_code.ipynb\t\t     results\n",
            " CoE202Spring_finalproject_dataset\t     runs\n",
            " CoE202Spring_finalproject_dataset.zip\t     util.py\n",
            "Directory  found.\n",
            " coe202_final_project_train_skeleton.ipynb   exp_colab\n",
            "'CoE202_HW3_test_code (4).ipynb'\t     model_baseline.py\n",
            " CoE202_HW3_test_code.ipynb\t\t     __pycache__\n",
            " CoE202_HW3_training_code.ipynb\t\t     results\n",
            " CoE202Spring_finalproject_dataset\t     runs\n",
            " CoE202Spring_finalproject_dataset.zip\t     util.py\n"
          ],
          "name": "stdout"
        }
      ]
    },
    {
      "cell_type": "markdown",
      "metadata": {
        "id": "o1l4KAsZVFgE"
      },
      "source": [
        "**5. Define arguments such as hyper-parameters, environment variables.**"
      ]
    },
    {
      "cell_type": "code",
      "metadata": {
        "id": "3LbNy03b3_ka"
      },
      "source": [
        "n_epoch = 30 # number of training epochs\n",
        "batch_size = 16\n",
        "learning_rate = 5e-4\n",
        "crop_size = 128\n",
        "experiment = \"exp_colab\"  # the name of experiment to save your model and optimizer.\n",
        "\n",
        "# Make directories for saving outcomes of experiment\n",
        "os.makedirs(f\"{filepath}/{experiment}\", exist_ok=True)\n",
        "os.makedirs(f\"{filepath}/results/training\", exist_ok=True)\n",
        "os.makedirs(f\"{filepath}/results/validation\", exist_ok=True)"
      ],
      "execution_count": 7,
      "outputs": []
    },
    {
      "cell_type": "markdown",
      "metadata": {
        "id": "ViTBzz6jUGM0"
      },
      "source": [
        "**6. Load training and validation datasets with data transform functions.**"
      ]
    },
    {
      "cell_type": "code",
      "metadata": {
        "id": "XNIOAPoU2EW9",
        "colab": {
          "base_uri": "https://localhost:8080/"
        },
        "outputId": "5d50369b-b093-484b-9f59-65e7d35f6252"
      },
      "source": [
        "# Class information\n",
        "classes = ['background',\n",
        "'aeroplane',\n",
        "'bicycle',\n",
        "'boat',\n",
        "'bus',\n",
        "'car',\n",
        "'motorbike',\n",
        "'person',\n",
        "'train',\n",
        "'boundary'] # For convenience, the classes are denoted as corresponding indexes (0~9) in this project\n",
        "# Notice that the boundary class (index : 9) is ignored to evaluate mIoU!\n",
        "\n",
        "color_transform = Colorize() # mapping probability maps to color maps\n",
        "\n",
        "\n",
        "# You can modify custom transform functions\n",
        "custom_transform = [transforms.CenterCrop(crop_size),]\n",
        "\n",
        "# Don't change input_transform, target_transform\n",
        "input_transform = [transforms.ToTensor()]\n",
        "\n",
        "target_transform = [ToLabel(),\n",
        "    Relabel(4, 3),\n",
        "    Relabel(6, 4),\n",
        "    Relabel(7, 5),\n",
        "    Relabel(14, 6),\n",
        "    Relabel(15, 7),\n",
        "    Relabel(19, 8),\n",
        "    Relabel(255, 9),\n",
        "]\n",
        "\n",
        "input_transform = transforms.Compose(custom_transform + input_transform)\n",
        "target_transform = transforms.Compose(custom_transform + target_transform)\n",
        "\n",
        "dataset = CoE_Dataset(root=f\"{filepath}/CoE202Spring_finalproject_dataset\",\n",
        "                input_transform=input_transform,\n",
        "                target_transform=target_transform)\n",
        "\n",
        "print('Total number of images : {}'.format(len(dataset)))\n",
        "\n",
        "# ------------\n",
        "# Load dataset\n",
        "# ------------\n",
        "\n",
        "# You can change dataset spliting/loading strategies\n",
        "n_train = math.floor(0.9*len(dataset)) # (default) 90% of the data for training\n",
        "n_val = len(dataset) - math.floor(0.9*len(dataset)) # (default) 10% of the data for validation\n",
        "\n",
        "train_dataset, valid_dataset = torch.utils.data.random_split(dataset, [n_train, n_val])\n",
        "\n",
        "train_loader = torch.utils.data.DataLoader(train_dataset,\n",
        "                                        batch_size=batch_size,\n",
        "                                        shuffle=True,\n",
        "                                        drop_last=True\n",
        "                                        )\n",
        "valid_loader = torch.utils.data.DataLoader(valid_dataset,\n",
        "                                        batch_size=batch_size,\n",
        "                                        shuffle=False,\n",
        "                                        drop_last=True\n",
        "                                        )\n",
        "\n",
        "# Print the size of image/mask and unique classes (0~9)\n",
        "img, mask, _ = next(iter(train_loader))\n",
        "print('image & mask size : {}, {}'.format(img.size(), mask.size())) # size of the image and mask\n",
        "print(torch.unique(mask)) # unique classes"
      ],
      "execution_count": 8,
      "outputs": [
        {
          "output_type": "stream",
          "text": [
            "Total number of images : 1000\n",
            "image & mask size : torch.Size([16, 3, 128, 128]), torch.Size([16, 1, 128, 128])\n",
            "tensor([0, 1, 2, 4, 5, 7, 8, 9])\n"
          ],
          "name": "stdout"
        }
      ]
    },
    {
      "cell_type": "markdown",
      "metadata": {
        "id": "4cPho67MU0t8"
      },
      "source": [
        "**7. Glance at some sample data.**\n",
        "\n",
        "As the 1st step of learning process, it's indispensable to understand input data.\n",
        "\n",
        "Then, we can get some hints for designing the network and training scheme."
      ]
    },
    {
      "cell_type": "code",
      "metadata": {
        "id": "r4WWhNzp79_j",
        "colab": {
          "base_uri": "https://localhost:8080/",
          "height": 521
        },
        "outputId": "96b484ce-f429-4243-ecd0-6a70464d29e0"
      },
      "source": [
        "(sample_batch, sample_label, _) = next(iter(train_loader))\n",
        "\n",
        "fig = plt.figure(figsize=(12, 14))\n",
        "for i in range(2):\n",
        "    for j in range(2):\n",
        "        fig.add_subplot(4, 4, (i * 4 + j * 2 + 1))\n",
        "        plt.imshow(sample_batch[i*4+j].permute(1, 2, 0))\n",
        "        classes_name = [classes[index] for index in torch.unique(sample_label[i*4+j]) if not index == 9]\n",
        "        plt.title('class : ' + str(classes_name))\n",
        "        fig.add_subplot(4, 4, (i * 4 + j * 2 + 1+ 1))\n",
        "        plt.imshow(color_transform(sample_label[i*4+j]).permute(1, 2, 0))\n",
        "plt.suptitle(\"Sample images\")"
      ],
      "execution_count": 9,
      "outputs": [
        {
          "output_type": "execute_result",
          "data": {
            "text/plain": [
              "Text(0.5, 0.98, 'Sample images')"
            ]
          },
          "metadata": {
            "tags": []
          },
          "execution_count": 9
        },
        {
          "output_type": "display_data",
          "data": {
            "image/png": "[encoded data removed]",
            "text/plain": [
              "<Figure size 864x1008 with 8 Axes>"
            ]
          },
          "metadata": {
            "tags": [],
            "needs_background": "light"
          }
        }
      ]
    },
    {
      "cell_type": "markdown",
      "metadata": {
        "id": "lPsy-FWZTpvA"
      },
      "source": [
        "**8. Set-up the training environment (model, loss function, optimizer, etc).**\n"
      ]
    },
    {
      "cell_type": "code",
      "metadata": {
        "id": "t9d9D7Ki2EW7",
        "colab": {
          "base_uri": "https://localhost:8080/",
          "height": 84,
          "referenced_widgets": [
            "398e149a0a97437980c3ed2edb1df656",
            "7400cba0e5744f9eaad2ffffc08fe6e9",
            "f1c0b6da2ed246b3aa083523005ddfd1",
            "f73e20ab6afe43a4a614fa23064ef94f",
            "e0545b7bbd994588abcc9cc485364afa",
            "80fbe50f575e4cef8dea5c000f3cece0",
            "95fd72ca0f034c2d871f0420e19f7420",
            "34c7bee0dcb44c9baea02112a7083427"
          ]
        },
        "outputId": "8c698901-1c76-4453-eceb-17f1e6a7c70e"
      },
      "source": [
        "# You can modify the loss, the model and the optimizer\n",
        "criterion = nn.CrossEntropyLoss(ignore_index=9).cuda() # Ignore the index 9 indiciating 'boundaries' for calculating loss\n",
        "model = FCN_GCN().cuda()\n",
        "optim = torch.optim.Adam(model.parameters(), lr = learning_rate)\n",
        "\n",
        "best_model_state, best_optim_state = None, None\n",
        "latest_model_state, latest_optim_state = None, None"
      ],
      "execution_count": 10,
      "outputs": [
        {
          "output_type": "stream",
          "text": [
            "Downloading: \"https://download.pytorch.org/models/resnet50-19c8e357.pth\" to /root/.cache/torch/hub/checkpoints/resnet50-19c8e357.pth\n"
          ],
          "name": "stderr"
        },
        {
          "output_type": "display_data",
          "data": {
            "application/vnd.jupyter.widget-view+json": {
              "model_id": "398e149a0a97437980c3ed2edb1df656",
              "version_minor": 0,
              "version_major": 2
            },
            "text/plain": [
              "HBox(children=(FloatProgress(value=0.0, max=102502400.0), HTML(value='')))"
            ]
          },
          "metadata": {
            "tags": []
          }
        },
        {
          "output_type": "stream",
          "text": [
            "\n"
          ],
          "name": "stdout"
        }
      ]
    },
    {
      "cell_type": "markdown",
      "metadata": {
        "id": "pG07e6piUqD0"
      },
      "source": [
        "**9. Check your segmentation network.**\n",
        "\n",
        "You can define your own network in **model_baseline.py.** "
      ]
    },
    {
      "cell_type": "code",
      "metadata": {
        "id": "p44ATVYX6UqB",
        "colab": {
          "base_uri": "https://localhost:8080/"
        },
        "outputId": "bbbf90f1-ad7b-4dee-ba26-ed15b984d04f"
      },
      "source": [
        "print('The network architecture is as follows.')\n",
        "print(model)"
      ],
      "execution_count": 11,
      "outputs": [
        {
          "output_type": "stream",
          "text": [
            "The network architecture is as follows.\n",
            "FCN_GCN(\n",
            "  (conv1): Conv2d(3, 64, kernel_size=(7, 7), stride=(2, 2), padding=(3, 3), bias=False)\n",
            "  (bn0): BatchNorm2d(64, eps=1e-05, momentum=0.1, affine=True, track_running_stats=True)\n",
            "  (relu): ReLU(inplace=True)\n",
            "  (layer1): Sequential(\n",
            "    (0): MaxPool2d(kernel_size=3, stride=2, padding=1, dilation=1, ceil_mode=False)\n",
            "    (1): Sequential(\n",
            "      (0): Bottleneck(\n",
            "        (conv1): Conv2d(64, 64, kernel_size=(1, 1), stride=(1, 1), bias=False)\n",
            "        (bn1): BatchNorm2d(64, eps=1e-05, momentum=0.1, affine=True, track_running_stats=True)\n",
            "        (conv2): Conv2d(64, 64, kernel_size=(3, 3), stride=(1, 1), padding=(1, 1), bias=False)\n",
            "        (bn2): BatchNorm2d(64, eps=1e-05, momentum=0.1, affine=True, track_running_stats=True)\n",
            "        (conv3): Conv2d(64, 256, kernel_size=(1, 1), stride=(1, 1), bias=False)\n",
            "        (bn3): BatchNorm2d(256, eps=1e-05, momentum=0.1, affine=True, track_running_stats=True)\n",
            "        (relu): ReLU(inplace=True)\n",
            "        (downsample): Sequential(\n",
            "          (0): Conv2d(64, 256, kernel_size=(1, 1), stride=(1, 1), bias=False)\n",
            "          (1): BatchNorm2d(256, eps=1e-05, momentum=0.1, affine=True, track_running_stats=True)\n",
            "        )\n",
            "      )\n",
            "      (1): Bottleneck(\n",
            "        (conv1): Conv2d(256, 64, kernel_size=(1, 1), stride=(1, 1), bias=False)\n",
            "        (bn1): BatchNorm2d(64, eps=1e-05, momentum=0.1, affine=True, track_running_stats=True)\n",
            "        (conv2): Conv2d(64, 64, kernel_size=(3, 3), stride=(1, 1), padding=(1, 1), bias=False)\n",
            "        (bn2): BatchNorm2d(64, eps=1e-05, momentum=0.1, affine=True, track_running_stats=True)\n",
            "        (conv3): Conv2d(64, 256, kernel_size=(1, 1), stride=(1, 1), bias=False)\n",
            "        (bn3): BatchNorm2d(256, eps=1e-05, momentum=0.1, affine=True, track_running_stats=True)\n",
            "        (relu): ReLU(inplace=True)\n",
            "      )\n",
            "      (2): Bottleneck(\n",
            "        (conv1): Conv2d(256, 64, kernel_size=(1, 1), stride=(1, 1), bias=False)\n",
            "        (bn1): BatchNorm2d(64, eps=1e-05, momentum=0.1, affine=True, track_running_stats=True)\n",
            "        (conv2): Conv2d(64, 64, kernel_size=(3, 3), stride=(1, 1), padding=(1, 1), bias=False)\n",
            "        (bn2): BatchNorm2d(64, eps=1e-05, momentum=0.1, affine=True, track_running_stats=True)\n",
            "        (conv3): Conv2d(64, 256, kernel_size=(1, 1), stride=(1, 1), bias=False)\n",
            "        (bn3): BatchNorm2d(256, eps=1e-05, momentum=0.1, affine=True, track_running_stats=True)\n",
            "        (relu): ReLU(inplace=True)\n",
            "      )\n",
            "    )\n",
            "  )\n",
            "  (layer2): Sequential(\n",
            "    (0): Bottleneck(\n",
            "      (conv1): Conv2d(256, 128, kernel_size=(1, 1), stride=(1, 1), bias=False)\n",
            "      (bn1): BatchNorm2d(128, eps=1e-05, momentum=0.1, affine=True, track_running_stats=True)\n",
            "      (conv2): Conv2d(128, 128, kernel_size=(3, 3), stride=(2, 2), padding=(1, 1), bias=False)\n",
            "      (bn2): BatchNorm2d(128, eps=1e-05, momentum=0.1, affine=True, track_running_stats=True)\n",
            "      (conv3): Conv2d(128, 512, kernel_size=(1, 1), stride=(1, 1), bias=False)\n",
            "      (bn3): BatchNorm2d(512, eps=1e-05, momentum=0.1, affine=True, track_running_stats=True)\n",
            "      (relu): ReLU(inplace=True)\n",
            "      (downsample): Sequential(\n",
            "        (0): Conv2d(256, 512, kernel_size=(1, 1), stride=(2, 2), bias=False)\n",
            "        (1): BatchNorm2d(512, eps=1e-05, momentum=0.1, affine=True, track_running_stats=True)\n",
            "      )\n",
            "    )\n",
            "    (1): Bottleneck(\n",
            "      (conv1): Conv2d(512, 128, kernel_size=(1, 1), stride=(1, 1), bias=False)\n",
            "      (bn1): BatchNorm2d(128, eps=1e-05, momentum=0.1, affine=True, track_running_stats=True)\n",
            "      (conv2): Conv2d(128, 128, kernel_size=(3, 3), stride=(1, 1), padding=(1, 1), bias=False)\n",
            "      (bn2): BatchNorm2d(128, eps=1e-05, momentum=0.1, affine=True, track_running_stats=True)\n",
            "      (conv3): Conv2d(128, 512, kernel_size=(1, 1), stride=(1, 1), bias=False)\n",
            "      (bn3): BatchNorm2d(512, eps=1e-05, momentum=0.1, affine=True, track_running_stats=True)\n",
            "      (relu): ReLU(inplace=True)\n",
            "    )\n",
            "    (2): Bottleneck(\n",
            "      (conv1): Conv2d(512, 128, kernel_size=(1, 1), stride=(1, 1), bias=False)\n",
            "      (bn1): BatchNorm2d(128, eps=1e-05, momentum=0.1, affine=True, track_running_stats=True)\n",
            "      (conv2): Conv2d(128, 128, kernel_size=(3, 3), stride=(1, 1), padding=(1, 1), bias=False)\n",
            "      (bn2): BatchNorm2d(128, eps=1e-05, momentum=0.1, affine=True, track_running_stats=True)\n",
            "      (conv3): Conv2d(128, 512, kernel_size=(1, 1), stride=(1, 1), bias=False)\n",
            "      (bn3): BatchNorm2d(512, eps=1e-05, momentum=0.1, affine=True, track_running_stats=True)\n",
            "      (relu): ReLU(inplace=True)\n",
            "    )\n",
            "    (3): Bottleneck(\n",
            "      (conv1): Conv2d(512, 128, kernel_size=(1, 1), stride=(1, 1), bias=False)\n",
            "      (bn1): BatchNorm2d(128, eps=1e-05, momentum=0.1, affine=True, track_running_stats=True)\n",
            "      (conv2): Conv2d(128, 128, kernel_size=(3, 3), stride=(1, 1), padding=(1, 1), bias=False)\n",
            "      (bn2): BatchNorm2d(128, eps=1e-05, momentum=0.1, affine=True, track_running_stats=True)\n",
            "      (conv3): Conv2d(128, 512, kernel_size=(1, 1), stride=(1, 1), bias=False)\n",
            "      (bn3): BatchNorm2d(512, eps=1e-05, momentum=0.1, affine=True, track_running_stats=True)\n",
            "      (relu): ReLU(inplace=True)\n",
            "    )\n",
            "  )\n",
            "  (layer3): Sequential(\n",
            "    (0): Bottleneck(\n",
            "      (conv1): Conv2d(512, 256, kernel_size=(1, 1), stride=(1, 1), bias=False)\n",
            "      (bn1): BatchNorm2d(256, eps=1e-05, momentum=0.1, affine=True, track_running_stats=True)\n",
            "      (conv2): Conv2d(256, 256, kernel_size=(3, 3), stride=(2, 2), padding=(1, 1), bias=False)\n",
            "      (bn2): BatchNorm2d(256, eps=1e-05, momentum=0.1, affine=True, track_running_stats=True)\n",
            "      (conv3): Conv2d(256, 1024, kernel_size=(1, 1), stride=(1, 1), bias=False)\n",
            "      (bn3): BatchNorm2d(1024, eps=1e-05, momentum=0.1, affine=True, track_running_stats=True)\n",
            "      (relu): ReLU(inplace=True)\n",
            "      (downsample): Sequential(\n",
            "        (0): Conv2d(512, 1024, kernel_size=(1, 1), stride=(2, 2), bias=False)\n",
            "        (1): BatchNorm2d(1024, eps=1e-05, momentum=0.1, affine=True, track_running_stats=True)\n",
            "      )\n",
            "    )\n",
            "    (1): Bottleneck(\n",
            "      (conv1): Conv2d(1024, 256, kernel_size=(1, 1), stride=(1, 1), bias=False)\n",
            "      (bn1): BatchNorm2d(256, eps=1e-05, momentum=0.1, affine=True, track_running_stats=True)\n",
            "      (conv2): Conv2d(256, 256, kernel_size=(3, 3), stride=(1, 1), padding=(1, 1), bias=False)\n",
            "      (bn2): BatchNorm2d(256, eps=1e-05, momentum=0.1, affine=True, track_running_stats=True)\n",
            "      (conv3): Conv2d(256, 1024, kernel_size=(1, 1), stride=(1, 1), bias=False)\n",
            "      (bn3): BatchNorm2d(1024, eps=1e-05, momentum=0.1, affine=True, track_running_stats=True)\n",
            "      (relu): ReLU(inplace=True)\n",
            "    )\n",
            "    (2): Bottleneck(\n",
            "      (conv1): Conv2d(1024, 256, kernel_size=(1, 1), stride=(1, 1), bias=False)\n",
            "      (bn1): BatchNorm2d(256, eps=1e-05, momentum=0.1, affine=True, track_running_stats=True)\n",
            "      (conv2): Conv2d(256, 256, kernel_size=(3, 3), stride=(1, 1), padding=(1, 1), bias=False)\n",
            "      (bn2): BatchNorm2d(256, eps=1e-05, momentum=0.1, affine=True, track_running_stats=True)\n",
            "      (conv3): Conv2d(256, 1024, kernel_size=(1, 1), stride=(1, 1), bias=False)\n",
            "      (bn3): BatchNorm2d(1024, eps=1e-05, momentum=0.1, affine=True, track_running_stats=True)\n",
            "      (relu): ReLU(inplace=True)\n",
            "    )\n",
            "    (3): Bottleneck(\n",
            "      (conv1): Conv2d(1024, 256, kernel_size=(1, 1), stride=(1, 1), bias=False)\n",
            "      (bn1): BatchNorm2d(256, eps=1e-05, momentum=0.1, affine=True, track_running_stats=True)\n",
            "      (conv2): Conv2d(256, 256, kernel_size=(3, 3), stride=(1, 1), padding=(1, 1), bias=False)\n",
            "      (bn2): BatchNorm2d(256, eps=1e-05, momentum=0.1, affine=True, track_running_stats=True)\n",
            "      (conv3): Conv2d(256, 1024, kernel_size=(1, 1), stride=(1, 1), bias=False)\n",
            "      (bn3): BatchNorm2d(1024, eps=1e-05, momentum=0.1, affine=True, track_running_stats=True)\n",
            "      (relu): ReLU(inplace=True)\n",
            "    )\n",
            "    (4): Bottleneck(\n",
            "      (conv1): Conv2d(1024, 256, kernel_size=(1, 1), stride=(1, 1), bias=False)\n",
            "      (bn1): BatchNorm2d(256, eps=1e-05, momentum=0.1, affine=True, track_running_stats=True)\n",
            "      (conv2): Conv2d(256, 256, kernel_size=(3, 3), stride=(1, 1), padding=(1, 1), bias=False)\n",
            "      (bn2): BatchNorm2d(256, eps=1e-05, momentum=0.1, affine=True, track_running_stats=True)\n",
            "      (conv3): Conv2d(256, 1024, kernel_size=(1, 1), stride=(1, 1), bias=False)\n",
            "      (bn3): BatchNorm2d(1024, eps=1e-05, momentum=0.1, affine=True, track_running_stats=True)\n",
            "      (relu): ReLU(inplace=True)\n",
            "    )\n",
            "    (5): Bottleneck(\n",
            "      (conv1): Conv2d(1024, 256, kernel_size=(1, 1), stride=(1, 1), bias=False)\n",
            "      (bn1): BatchNorm2d(256, eps=1e-05, momentum=0.1, affine=True, track_running_stats=True)\n",
            "      (conv2): Conv2d(256, 256, kernel_size=(3, 3), stride=(1, 1), padding=(1, 1), bias=False)\n",
            "      (bn2): BatchNorm2d(256, eps=1e-05, momentum=0.1, affine=True, track_running_stats=True)\n",
            "      (conv3): Conv2d(256, 1024, kernel_size=(1, 1), stride=(1, 1), bias=False)\n",
            "      (bn3): BatchNorm2d(1024, eps=1e-05, momentum=0.1, affine=True, track_running_stats=True)\n",
            "      (relu): ReLU(inplace=True)\n",
            "    )\n",
            "  )\n",
            "  (layer4): Sequential(\n",
            "    (0): Bottleneck(\n",
            "      (conv1): Conv2d(1024, 512, kernel_size=(1, 1), stride=(1, 1), bias=False)\n",
            "      (bn1): BatchNorm2d(512, eps=1e-05, momentum=0.1, affine=True, track_running_stats=True)\n",
            "      (conv2): Conv2d(512, 512, kernel_size=(3, 3), stride=(2, 2), padding=(1, 1), bias=False)\n",
            "      (bn2): BatchNorm2d(512, eps=1e-05, momentum=0.1, affine=True, track_running_stats=True)\n",
            "      (conv3): Conv2d(512, 2048, kernel_size=(1, 1), stride=(1, 1), bias=False)\n",
            "      (bn3): BatchNorm2d(2048, eps=1e-05, momentum=0.1, affine=True, track_running_stats=True)\n",
            "      (relu): ReLU(inplace=True)\n",
            "      (downsample): Sequential(\n",
            "        (0): Conv2d(1024, 2048, kernel_size=(1, 1), stride=(2, 2), bias=False)\n",
            "        (1): BatchNorm2d(2048, eps=1e-05, momentum=0.1, affine=True, track_running_stats=True)\n",
            "      )\n",
            "    )\n",
            "    (1): Bottleneck(\n",
            "      (conv1): Conv2d(2048, 512, kernel_size=(1, 1), stride=(1, 1), bias=False)\n",
            "      (bn1): BatchNorm2d(512, eps=1e-05, momentum=0.1, affine=True, track_running_stats=True)\n",
            "      (conv2): Conv2d(512, 512, kernel_size=(3, 3), stride=(1, 1), padding=(1, 1), bias=False)\n",
            "      (bn2): BatchNorm2d(512, eps=1e-05, momentum=0.1, affine=True, track_running_stats=True)\n",
            "      (conv3): Conv2d(512, 2048, kernel_size=(1, 1), stride=(1, 1), bias=False)\n",
            "      (bn3): BatchNorm2d(2048, eps=1e-05, momentum=0.1, affine=True, track_running_stats=True)\n",
            "      (relu): ReLU(inplace=True)\n",
            "    )\n",
            "    (2): Bottleneck(\n",
            "      (conv1): Conv2d(2048, 512, kernel_size=(1, 1), stride=(1, 1), bias=False)\n",
            "      (bn1): BatchNorm2d(512, eps=1e-05, momentum=0.1, affine=True, track_running_stats=True)\n",
            "      (conv2): Conv2d(512, 512, kernel_size=(3, 3), stride=(1, 1), padding=(1, 1), bias=False)\n",
            "      (bn2): BatchNorm2d(512, eps=1e-05, momentum=0.1, affine=True, track_running_stats=True)\n",
            "      (conv3): Conv2d(512, 2048, kernel_size=(1, 1), stride=(1, 1), bias=False)\n",
            "      (bn3): BatchNorm2d(2048, eps=1e-05, momentum=0.1, affine=True, track_running_stats=True)\n",
            "      (relu): ReLU(inplace=True)\n",
            "    )\n",
            "  )\n",
            "  (gcn1): GCN(\n",
            "    (conv_l1): Conv2d(256, 10, kernel_size=(7, 1), stride=(1, 1), padding=(3, 0))\n",
            "    (conv_l2): Conv2d(10, 10, kernel_size=(1, 7), stride=(1, 1), padding=(0, 3))\n",
            "    (conv_r1): Conv2d(256, 10, kernel_size=(1, 7), stride=(1, 1), padding=(0, 3))\n",
            "    (conv_r2): Conv2d(10, 10, kernel_size=(7, 1), stride=(1, 1), padding=(3, 0))\n",
            "  )\n",
            "  (gcn2): GCN(\n",
            "    (conv_l1): Conv2d(512, 10, kernel_size=(7, 1), stride=(1, 1), padding=(3, 0))\n",
            "    (conv_l2): Conv2d(10, 10, kernel_size=(1, 7), stride=(1, 1), padding=(0, 3))\n",
            "    (conv_r1): Conv2d(512, 10, kernel_size=(1, 7), stride=(1, 1), padding=(0, 3))\n",
            "    (conv_r2): Conv2d(10, 10, kernel_size=(7, 1), stride=(1, 1), padding=(3, 0))\n",
            "  )\n",
            "  (gcn3): GCN(\n",
            "    (conv_l1): Conv2d(1024, 10, kernel_size=(7, 1), stride=(1, 1), padding=(3, 0))\n",
            "    (conv_l2): Conv2d(10, 10, kernel_size=(1, 7), stride=(1, 1), padding=(0, 3))\n",
            "    (conv_r1): Conv2d(1024, 10, kernel_size=(1, 7), stride=(1, 1), padding=(0, 3))\n",
            "    (conv_r2): Conv2d(10, 10, kernel_size=(7, 1), stride=(1, 1), padding=(3, 0))\n",
            "  )\n",
            "  (gcn4): GCN(\n",
            "    (conv_l1): Conv2d(2048, 10, kernel_size=(7, 1), stride=(1, 1), padding=(3, 0))\n",
            "    (conv_l2): Conv2d(10, 10, kernel_size=(1, 7), stride=(1, 1), padding=(0, 3))\n",
            "    (conv_r1): Conv2d(2048, 10, kernel_size=(1, 7), stride=(1, 1), padding=(0, 3))\n",
            "    (conv_r2): Conv2d(10, 10, kernel_size=(7, 1), stride=(1, 1), padding=(3, 0))\n",
            "  )\n",
            "  (br1): BR(\n",
            "    (relu): ReLU(inplace=True)\n",
            "    (conv1): Conv2d(10, 10, kernel_size=(3, 3), stride=(1, 1), padding=(1, 1))\n",
            "    (conv2): Conv2d(10, 10, kernel_size=(3, 3), stride=(1, 1), padding=(1, 1))\n",
            "  )\n",
            "  (br2): BR(\n",
            "    (relu): ReLU(inplace=True)\n",
            "    (conv1): Conv2d(10, 10, kernel_size=(3, 3), stride=(1, 1), padding=(1, 1))\n",
            "    (conv2): Conv2d(10, 10, kernel_size=(3, 3), stride=(1, 1), padding=(1, 1))\n",
            "  )\n",
            "  (br3): BR(\n",
            "    (relu): ReLU(inplace=True)\n",
            "    (conv1): Conv2d(10, 10, kernel_size=(3, 3), stride=(1, 1), padding=(1, 1))\n",
            "    (conv2): Conv2d(10, 10, kernel_size=(3, 3), stride=(1, 1), padding=(1, 1))\n",
            "  )\n",
            "  (br4): BR(\n",
            "    (relu): ReLU(inplace=True)\n",
            "    (conv1): Conv2d(10, 10, kernel_size=(3, 3), stride=(1, 1), padding=(1, 1))\n",
            "    (conv2): Conv2d(10, 10, kernel_size=(3, 3), stride=(1, 1), padding=(1, 1))\n",
            "  )\n",
            "  (br5): BR(\n",
            "    (relu): ReLU(inplace=True)\n",
            "    (conv1): Conv2d(10, 10, kernel_size=(3, 3), stride=(1, 1), padding=(1, 1))\n",
            "    (conv2): Conv2d(10, 10, kernel_size=(3, 3), stride=(1, 1), padding=(1, 1))\n",
            "  )\n",
            "  (br6): BR(\n",
            "    (relu): ReLU(inplace=True)\n",
            "    (conv1): Conv2d(10, 10, kernel_size=(3, 3), stride=(1, 1), padding=(1, 1))\n",
            "    (conv2): Conv2d(10, 10, kernel_size=(3, 3), stride=(1, 1), padding=(1, 1))\n",
            "  )\n",
            "  (br7): BR(\n",
            "    (relu): ReLU(inplace=True)\n",
            "    (conv1): Conv2d(10, 10, kernel_size=(3, 3), stride=(1, 1), padding=(1, 1))\n",
            "    (conv2): Conv2d(10, 10, kernel_size=(3, 3), stride=(1, 1), padding=(1, 1))\n",
            "  )\n",
            "  (br8): BR(\n",
            "    (relu): ReLU(inplace=True)\n",
            "    (conv1): Conv2d(10, 10, kernel_size=(3, 3), stride=(1, 1), padding=(1, 1))\n",
            "    (conv2): Conv2d(10, 10, kernel_size=(3, 3), stride=(1, 1), padding=(1, 1))\n",
            "  )\n",
            "  (br9): BR(\n",
            "    (relu): ReLU(inplace=True)\n",
            "    (conv1): Conv2d(10, 10, kernel_size=(3, 3), stride=(1, 1), padding=(1, 1))\n",
            "    (conv2): Conv2d(10, 10, kernel_size=(3, 3), stride=(1, 1), padding=(1, 1))\n",
            "  )\n",
            ")\n"
          ],
          "name": "stdout"
        }
      ]
    },
    {
      "cell_type": "markdown",
      "metadata": {
        "id": "1Dx-rqZsYvxk"
      },
      "source": [
        "**10. Monitor learning process in the Tensorboard.**\n",
        "\n",
        "Tensorboard is a visualization toolkit (part of tensorflow) that help us monitor the learning procedures (loss, accuracy, etc). \n",
        "\n",
        "We are using PyTorch here, but we can still use the Tensorboard!\n",
        "\n",
        "*   We will execute the Tensorboard now. At this point, we will get 'No dashboards are active for the current data set.' message, as nothing is connected to this board.\n",
        "*   In the training for-loop below, there is summary.scalar() function which writes specific scalars to the Tensorboard!\n",
        "*   You can click the refresh button in the Tensorboard, or set automatic refresh, 'Reload data' in the setting!"
      ]
    },
    {
      "cell_type": "code",
      "metadata": {
        "id": "_oKvX3v4pP4L",
        "colab": {
          "base_uri": "https://localhost:8080/",
          "height": 34
        },
        "outputId": "54eda153-d375-498f-b71a-9adbb3a0f863"
      },
      "source": [
        "%load_ext tensorboard\n",
        "from tensorflow import summary\n",
        "current_time = datetime.datetime.now().strftime(\"%Y%m%d-%H%M%S\")\n",
        "summary_writer = summary.create_file_writer(f\"{filepath}/runs/{current_time}\")\n",
        "\n",
        "%tensorboard --logdir=\"{filepath}/runs\" # you can manually remove unnecessary logs in this folder"
      ],
      "execution_count": 12,
      "outputs": [
        {
          "output_type": "display_data",
          "data": {
            "text/plain": [
              "ERROR: Timed out waiting for TensorBoard to start. It may still be running as pid 411."
            ]
          },
          "metadata": {
            "tags": []
          }
        }
      ]
    },
    {
      "cell_type": "markdown",
      "metadata": {
        "id": "v6NnjyJcViGs"
      },
      "source": [
        "**11. Train your segmentation network.**\n",
        "\n",
        "You can monitor the training procedure through the Tensorboard above."
      ]
    },
    {
      "cell_type": "code",
      "metadata": {
        "id": "ysX2MqYi2EW_",
        "colab": {
          "base_uri": "https://localhost:8080/",
          "height": 119,
          "referenced_widgets": [
            "32eb41de6b2044248e3654abc2a17e28",
            "b0456ac0d363490b96cc12b4dae6cd72",
            "72ab1b29440f4a2e8adb5371d4e5e56c",
            "ca61042deaaa4f3a859cedd0355aa757",
            "456a8661f065487c92a4242526bbe26e",
            "6d3922e248a6425186a192c399b3206f",
            "fb279e9635f54ef5a685d83516937d21",
            "57e18f2ae28d4bbcaf66739821814064"
          ]
        },
        "outputId": "5968c3b8-c0f0-4e48-c19d-4fb82a30628e"
      },
      "source": [
        "start = time.time()\n",
        "best_mIoU = 0.0\n",
        "for epoch in tqdm(range(n_epoch)):\n",
        "\n",
        "    train_total_loss, valid_total_loss = 0.0, 0.0\n",
        "\n",
        "    # # --------------\n",
        "    # # Training step\n",
        "    # # --------------\n",
        "\n",
        "    model.train()\n",
        "\n",
        "    # Load mini-batches and do training\n",
        "    total_inter = 0\n",
        "    total_union = 0\n",
        "    # At first loading, it may be stuck for a while..\n",
        "    for _, (images, labels, _) in enumerate(train_loader):\n",
        "        images = images.cuda()\n",
        "        labels = labels.cuda()\n",
        "\n",
        "        # Predict the pixel-wise probability map indicating class prediction\n",
        "        pred = model(images)\n",
        "\n",
        "        # Calculate loss\n",
        "        loss = criterion(pred, labels[:, 0, :, :])\n",
        "        \n",
        "        # Backpropagate the loss to update network's weights\n",
        "        optim.zero_grad()\n",
        "        loss.backward()\n",
        "        optim.step()\n",
        "\n",
        "        train_total_loss += loss.item()\n",
        "        \n",
        "        # Calculate total intersection and union for each epoch\n",
        "        area_inter, area_union = batch_intersection_union(pred, labels[:, 0, :, :], 9)\n",
        "        total_inter += area_inter\n",
        "        total_union += area_union\n",
        "    train_IoU_class = total_inter / total_union # indicate the IoU for each classes(bins)\n",
        "    train_mIoU = train_IoU_class.mean().item() # indicate the mean IoU across all classes\n",
        "\n",
        "\n",
        "    # ----------------\n",
        "    # Validation step\n",
        "    # ----------------\n",
        "\n",
        "    # For validation, you do not need to calculate the gradient\n",
        "    with torch.no_grad():\n",
        "        model.eval()\n",
        "        total_inter = 0\n",
        "        total_union = 0\n",
        "        # Load mini-batches and do validation\n",
        "        for _, (images, labels, _) in enumerate(valid_loader):\n",
        "            images = images.cuda()\n",
        "            labels = labels.cuda()\n",
        "\n",
        "            pred = model(images)\n",
        "            loss = criterion(pred, labels[:, 0, :, :])\n",
        "\n",
        "            valid_total_loss += loss.item()\n",
        "\n",
        "            # Calculate total intersection and union for each epoch\n",
        "            area_inter, area_union = batch_intersection_union(pred, labels[:, 0, :, :], 9)\n",
        "            total_inter += area_inter\n",
        "            total_union += area_union\n",
        "        val_IoU_class = total_inter / total_union # indicate the IoU for each classes(bins)\n",
        "        val_mIoU = val_IoU_class.mean().item() # indicate the mean IoU across all classes\n",
        "\n",
        "        # Record the losses in forms of tensorboard scalars\n",
        "        with summary_writer.as_default():\n",
        "            summary.scalar('train_loss', train_total_loss, step=epoch)\n",
        "            summary.scalar('valid_loss', valid_total_loss, step=epoch)\n",
        "            summary.scalar('train_mIoU', train_mIoU, step=epoch)\n",
        "            summary.scalar('val_mIoU', val_mIoU, step=epoch)\n",
        "\n",
        "        # Store the latest and best accuracy models and optimizers\n",
        "        latest_model_state = model.state_dict()\n",
        "        latest_optim_state = optim.state_dict()\n",
        "        \n",
        "        if best_mIoU < val_mIoU:\n",
        "            best_mIoU = val_mIoU\n",
        "            best_model_state = model.state_dict()\n",
        "            best_optim_state = optim.state_dict()\n",
        "\n",
        "    # Print training logs and save intermediate validation results during training\n",
        "    if epoch % 10 == 0 or epoch == n_epoch - 1: \n",
        "        print(f\"\"\"\\n{time.strftime(\"%Y-%m-%d %H:%M:%S\", time.localtime())} || [{epoch}/{n_epoch}], train_loss = {train_total_loss:.4f}, valid_loss = {valid_total_loss:.4f}, train_mIoU = {train_mIoU:.4f}, val_mIoU = {val_mIoU:.4f}, , best mIoU = {best_mIoU:.4f}\"\"\")\n",
        "        stacked_imgs = torch.cat(torch.split(images, 1, dim=0), dim=3)\n",
        "        stacked_labels = torch.cat(torch.split(labels, 1, dim=0), dim=3)[0]\n",
        "        stacked_preds = torch.cat(torch.split(pred, 1, dim=0), dim=3)[0]\n",
        "        img_grid = torch.cat((stacked_imgs, color_transform(stacked_labels).unsqueeze(0).cuda(),color_transform(stacked_preds.max(0)[1].unsqueeze(0)).unsqueeze(0).cuda()), -2)\n",
        "        save_image(img_grid, \"results/training/%d.png\" % epoch, normalize=False)\n",
        "\n",
        "elapsed = time.time() - start\n",
        "print(f\"End of training, elapsed time : {elapsed // 60} min {elapsed % 60} sec.\")"
      ],
      "execution_count": null,
      "outputs": [
        {
          "output_type": "display_data",
          "data": {
            "application/vnd.jupyter.widget-view+json": {
              "model_id": "32eb41de6b2044248e3654abc2a17e28",
              "version_minor": 0,
              "version_major": 2
            },
            "text/plain": [
              "HBox(children=(FloatProgress(value=0.0, max=30.0), HTML(value='')))"
            ]
          },
          "metadata": {
            "tags": []
          }
        },
        {
          "output_type": "stream",
          "text": [
            "/usr/local/lib/python3.7/dist-packages/torch/nn/functional.py:3328: UserWarning: nn.functional.upsample is deprecated. Use nn.functional.interpolate instead.\n",
            "  warnings.warn(\"nn.functional.upsample is deprecated. Use nn.functional.interpolate instead.\")\n"
          ],
          "name": "stderr"
        },
        {
          "output_type": "stream",
          "text": [
            "\n",
            "2021-06-14 21:58:11 || [0/30], train_loss = 82.6051, valid_loss = 10.1005, train_mIoU = 0.2251, val_mIoU = 0.1768, , best mIoU = 0.1768\n"
          ],
          "name": "stdout"
        }
      ]
    },
    {
      "cell_type": "code",
      "metadata": {
        "id": "NvFsfyR1QqL4"
      },
      "source": [
        "from google.colab import drive\n",
        "drive.mount('/content/drive')"
      ],
      "execution_count": null,
      "outputs": []
    },
    {
      "cell_type": "markdown",
      "metadata": {
        "id": "LGUO6WEpVoCQ"
      },
      "source": [
        "**12. Save the predicted results for validation dataset.**\n",
        "\n",
        "Also, let's check the validation mIoU."
      ]
    },
    {
      "cell_type": "code",
      "metadata": {
        "id": "ZgSf1AjzPxyH"
      },
      "source": [
        "model.eval()\n",
        "mIoU = 0.0\n",
        "total_inter = 0\n",
        "total_union = 0\n",
        "valid_loader_save = torch.utils.data.DataLoader(valid_dataset,\n",
        "                                        batch_size=1,\n",
        "                                        shuffle=False,\n",
        "                                        drop_last=True\n",
        "                                        )\n",
        "\n",
        "for _, (images, labels, filename) in enumerate(valid_loader_save):\n",
        "      images = images.cuda()\n",
        "      labels = labels.cuda()\n",
        "      # Predict the pixel-wise probability map indicating class prediction\n",
        "      pred = model(images)\n",
        "      area_inter, area_union = batch_intersection_union(pred, labels[:, 0, :, :], 9)\n",
        "      total_inter += area_inter\n",
        "      total_union += area_union\n",
        "      labels = color_transform(labels[0]).unsqueeze(0).cuda()\n",
        "      pred = color_transform(pred[0].max(0)[1].unsqueeze(0)).unsqueeze(0).cuda()\n",
        "\n",
        "      # Save the validation results to .png\n",
        "      save_image(images, \"results/validation/{}_img.png\".format(filename[0]))\n",
        "      save_image(pred.float(), \"results/validation/{}_pred.png\".format(filename[0]))\n",
        "      save_image(labels.float(), \"results/validation/{}_label.png\".format(filename[0]))\n",
        "mIoU = (total_inter / total_union).mean().item()\n",
        "print('The final mIoU : {}'.format(mIoU))"
      ],
      "execution_count": null,
      "outputs": []
    },
    {
      "cell_type": "markdown",
      "metadata": {
        "id": "doG5zrHsXPuX"
      },
      "source": [
        "**13. Visualize the sample validation image in the shell.**"
      ]
    },
    {
      "cell_type": "code",
      "metadata": {
        "id": "oBX2ZyIeIHoV"
      },
      "source": [
        "training_sample = True\n",
        "\n",
        "if training_sample == True:\n",
        "  (sample_batch, sample_label,_) = next(iter(train_loader))\n",
        "else:\n",
        "  (sample_batch, sample_label,_) = next(iter(valid_loader))\n",
        "\n",
        "\n",
        "index = 9\n",
        "model.eval()\n",
        "sample_batch\n",
        "sample_label\n",
        "sample_output = model(sample_batch.cuda())\n",
        "\n",
        "\n",
        "print(sample_batch[index].size())\n",
        "print(sample_label[index].size())\n",
        "print(sample_output[index].max(0)[1].unsqueeze(0).size())\n",
        "\n",
        "label_one = sample_label[index].squeeze(0)\n",
        "pred_one = sample_output[index].max(0)[1]\n",
        "print(label_one.size(), pred_one.size())\n",
        "with torch.no_grad():\n",
        "    inter, union = batch_intersection_union(sample_output, sample_label[:, 0, :, :].cuda(), 9)\n",
        "    mIoU = (inter / union).mean().item()\n",
        "    print(f\"mIoU : {mIoU}\")\n",
        "\n",
        "fig = plt.figure(figsize=(12, 12))\n",
        "fig.add_subplot(1, 3, 1)\n",
        "plt.imshow(sample_batch[index].permute(1, 2, 0))\n",
        "plt.title(\"Image\")\n",
        "fig.add_subplot(1, 3, 2)\n",
        "plt.imshow(color_transform(sample_label[index]).permute(1, 2, 0))\n",
        "plt.title(\"GT\")\n",
        "print(torch.unique(sample_label[index]))\n",
        "fig.add_subplot(1, 3, 3)\n",
        "plt.imshow(color_transform(pred_one.unsqueeze(0)).permute(1, 2, 0))\n",
        "plt.title(\"Pred\")"
      ],
      "execution_count": null,
      "outputs": []
    },
    {
      "cell_type": "markdown",
      "metadata": {
        "id": "jTsqbp8rkBsd"
      },
      "source": [
        "**14. Save parameters of the model and the optimizer.**\n",
        "\n",
        "By default, it saves parameters of the latest and best model and optimizer.\n",
        "\n",
        "Following your strategy, you can freely select them by yourself."
      ]
    },
    {
      "cell_type": "code",
      "metadata": {
        "id": "7KM0EGsB2EXC"
      },
      "source": [
        "if best_model_state is not None and best_optim_state is not None:\n",
        "    torch.save(best_model_state, f\"{filepath}/{experiment}/best_model_state_dict.pt\")\n",
        "    torch.save(best_optim_state, f\"{filepath}/{experiment}/best_optim_state_dict.pt\")\n",
        "    torch.save(latest_model_state, f\"{filepath}/{experiment}/latest_model_state_dict.pt\")\n",
        "    torch.save(latest_optim_state, f\"{filepath}/{experiment}/latest_optim_state_dict.pt\")\n",
        "    print(\"Successfully saved.\")"
      ],
      "execution_count": null,
      "outputs": []
    }
  ]
}